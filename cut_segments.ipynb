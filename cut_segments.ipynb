{
 "cells": [
  {
   "cell_type": "code",
   "execution_count": 1,
   "metadata": {},
   "outputs": [],
   "source": [
    "from IPython.display import Audio\n",
    "import matplotlib.pyplot as plt\n",
    "import numpy as np\n",
    "import torch\n",
    "import torch.nn as nn\n",
    "import time\n",
    "import glob\n",
    "from lxml.html import parse\n",
    "from sphfile import SPHFile\n",
    "import pandas as pd\n",
    "from collections import Counter\n",
    "from bs4 import BeautifulSoup\n",
    "from librosa.core import resample\n",
    "import sys\n",
    "from tqdm.notebook import tqdm\n",
    "np.random.seed(12345)\n",
    "new_sr = 8000"
   ]
  },
  {
   "cell_type": "markdown",
   "metadata": {},
   "source": [
    "## Pair sound files and annotation\n",
    "# Check if the data contains spanish characters"
   ]
  },
  {
   "cell_type": "code",
   "execution_count": 2,
   "metadata": {},
   "outputs": [
    {
     "data": {
      "text/plain": [
       "298"
      ]
     },
     "execution_count": 2,
     "metadata": {},
     "output_type": "execute_result"
    }
   ],
   "source": [
    "soundfiles = glob.glob('files/**/*.sph', recursive = True)\n",
    "#annofiles = glob.glob('./**/*.txt', recursive = True) + glob.glob('./**/*.sgml', recursive = True)\n",
    "data = {}\n",
    "for soundfile in soundfiles:\n",
    "    name = soundfile.split('/')[-1].split('.')[0]\n",
    "    annofile = list(glob.glob('files/**/'+name+'.txt', recursive = True))+list(glob.glob('files/**/'+name+'.sgml', recursive = True))\n",
    "    annofile = annofile[0]\n",
    "    data[soundfile] = annofile\n",
    "    with open(annofile) as file:\n",
    "        try:\n",
    "            soup = BeautifulSoup(file,'html.parser')\n",
    "        except:\n",
    "            print(annofile)\n",
    "start_load = time.time()\n",
    "soundfiles = list(data.keys())\n",
    "len(soundfiles)"
   ]
  },
  {
   "cell_type": "code",
   "execution_count": 5,
   "metadata": {},
   "outputs": [],
   "source": [
    "def getstart(segment):\n",
    "    return float(segment['s_time']) if segment.has_attr('s_time') else float(segment['starttime'])\n",
    "def getend(segment):\n",
    "    return float(segment['e_time']) if segment.has_attr('e_time') else float(segment['endtime'])\n",
    "\n",
    "def cut_segments(i):\n",
    "    df = []\n",
    "    soundfile = soundfiles[i]\n",
    "    name = soundfile.split('/')[-1].split('.')[0] # name of soundfile\n",
    "    sph = SPHFile(soundfile)\n",
    "    sound, sr = sph.content, sph.format['sample_rate']\n",
    "    annofile = data[soundfile]\n",
    "    with open(annofile) as file:\n",
    "        soup = BeautifulSoup(file,'html.parser')\n",
    "    tags = soup.find_all(['segment', 'turn'])\n",
    "    for j, segment in enumerate(tags):\n",
    "        #text = segment.content\n",
    "        end = getend(segment)\n",
    "        start = getstart(segment)\n",
    "        speaker = segment['speaker'].lower()\n",
    "        if speaker[:4] in ['male', 'fema', 'spkr']:\n",
    "            speaker = name+'_'+speaker\n",
    "        if speaker.lower().find('announcer') != -1:\n",
    "            #print(speaker)\n",
    "            continue\n",
    "        if speaker in ['01janedoe', '01johndoe', '02janedoe', '02johndoe', '04johndoe', 'anchor1', 'unison']:\n",
    "            continue\n",
    "        if end > len(sound)/sr: # if end exceeds length, skip\n",
    "            continue\n",
    "        if start >= end-2: # if segment too short\n",
    "            continue\n",
    "            \n",
    "        k = 0\n",
    "        while start<end-2:\n",
    "            start_idx = int(start*sr)\n",
    "            end_idx = start_idx+2*sr\n",
    "            segment = np.array(sound[start_idx:end_idx], dtype = np.float32)/(2**15)\n",
    "            segment = resample(segment, sr, new_sr)\n",
    "\n",
    "            filename = 'files/segments/'+name+'_turn'+str(j)+'_seg'+str(k)+'.npy'\n",
    "            row = {'speaker':speaker, 'segfile':filename}\n",
    "\n",
    "            np.save(filename, segment)\n",
    "            df.append(row)\n",
    "            k+=1\n",
    "            start+=2\n",
    "    df = pd.DataFrame(df)\n",
    "    df.to_csv('files/csv/'+name+'.csv', index = False)"
   ]
  },
  {
   "cell_type": "markdown",
   "metadata": {},
   "source": [
    "# Save Segments"
   ]
  },
  {
   "cell_type": "code",
   "execution_count": 6,
   "metadata": {
    "scrolled": true
   },
   "outputs": [
    {
     "name": "stdout",
     "output_type": "stream",
     "text": [
      "Done!\n"
     ]
    }
   ],
   "source": [
    "from multiprocessing import Pool\n",
    "pool = Pool(processes=15)   \n",
    "pool.map(cut_segments, range(0, len(soundfiles)))\n",
    "print('Done!')"
   ]
  },
  {
   "cell_type": "code",
   "execution_count": 56,
   "metadata": {},
   "outputs": [
    {
     "name": "stdout",
     "output_type": "stream",
     "text": [
      "files/csv/ep970818.csv is corrupted\n",
      "files/csv/ep970820.csv is corrupted\n"
     ]
    }
   ],
   "source": [
    "csv_list = list(glob.glob('files/csv/*'))\n",
    "csv_list.sort()\n",
    "df = pd.DataFrame()\n",
    "for csv in csv_list:\n",
    "    try:\n",
    "        csv = pd.read_csv(csv)\n",
    "    except:\n",
    "        print(csv, 'is corrupted')\n",
    "        continue\n",
    "    df = df.append(csv, ignore_index = True)\n",
    "df = df.sample(frac = 1, random_state = 12345)"
   ]
  },
  {
   "cell_type": "code",
   "execution_count": 58,
   "metadata": {},
   "outputs": [],
   "source": [
    "hundredth = len(df)//100\n",
    "df[:90*hundredth].to_csv('files/train-segments.csv', index = False)\n",
    "df[90*hundredth:95*hundredth].to_csv('files/val-segments.csv', index = False)\n",
    "df[95*hundredth:].to_csv('files/test-segments.csv', index = False)\n"
   ]
  },
  {
   "cell_type": "code",
   "execution_count": null,
   "metadata": {},
   "outputs": [],
   "source": []
  }
 ],
 "metadata": {
  "kernelspec": {
   "display_name": "Python 3",
   "language": "python",
   "name": "python3"
  },
  "language_info": {
   "codemirror_mode": {
    "name": "ipython",
    "version": 3
   },
   "file_extension": ".py",
   "mimetype": "text/x-python",
   "name": "python",
   "nbconvert_exporter": "python",
   "pygments_lexer": "ipython3",
   "version": "3.6.9"
  }
 },
 "nbformat": 4,
 "nbformat_minor": 2
}
